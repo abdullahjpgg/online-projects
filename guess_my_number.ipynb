{
  "nbformat": 4,
  "nbformat_minor": 0,
  "metadata": {
    "colab": {
      "provenance": [],
      "authorship_tag": "ABX9TyMIVOIPv4gitw8FbXcRN4q8",
      "include_colab_link": true
    },
    "kernelspec": {
      "name": "python3",
      "display_name": "Python 3"
    },
    "language_info": {
      "name": "python"
    }
  },
  "cells": [
    {
      "cell_type": "markdown",
      "metadata": {
        "id": "view-in-github",
        "colab_type": "text"
      },
      "source": [
        "<a href=\"https://colab.research.google.com/github/abdullahjpgg/online-projects/blob/main/guess_my_number.ipynb\" target=\"_parent\"><img src=\"https://colab.research.google.com/assets/colab-badge.svg\" alt=\"Open In Colab\"/></a>"
      ]
    },
    {
      "cell_type": "code",
      "execution_count": null,
      "metadata": {
        "id": "GxBZJcHpICSK"
      },
      "outputs": [],
      "source": [
        "import random\n",
        "\n",
        "original_number = random.randint(0,99)\n",
        "\n",
        "while True:\n",
        "  guessed_number = int(input(\"Your guess is : \"))\n",
        "  if guessed_number > original_number:\n",
        "    print(\"Your guess is too high!\")\n",
        "  elif guessed_number < original_number:\n",
        "    print(\"Your guess is too low!\")\n",
        "  else:\n",
        "    print(\"Your guess is correct!\")\n",
        "    break\n"
      ]
    }
  ]
}