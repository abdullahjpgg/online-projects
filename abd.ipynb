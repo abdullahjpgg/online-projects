{
  "cells": [
    {
      "cell_type": "markdown",
      "metadata": {
        "id": "view-in-github",
        "colab_type": "text"
      },
      "source": [
        "<a href=\"https://colab.research.google.com/github/abdullahjpgg/online-projects/blob/main/abd.ipynb\" target=\"_parent\"><img src=\"https://colab.research.google.com/assets/colab-badge.svg\" alt=\"Open In Colab\"/></a>"
      ]
    },
    {
      "cell_type": "markdown",
      "source": [],
      "metadata": {
        "id": "VrHZubPW0z1g"
      }
    },
    {
      "cell_type": "code",
      "source": [
        "import random\n",
        "\n",
        "original_number = random.randint(0,99)\n",
        "\n",
        "while True:\n",
        "  guessed_number = int(input(\"Your guess is : \"))\n",
        "  if guessed_number > original_number:\n",
        "    print(\"Your guess is too high!\")\n",
        "  elif guessed_number < original_number:\n",
        "    print(\"Your guess is too low!\")\n",
        "  else:\n",
        "    print(\"Your guess is correct!\")\n",
        "    break\n"
      ],
      "metadata": {
        "id": "rchJ-TpNGx3y"
      },
      "execution_count": null,
      "outputs": []
    },
    {
      "cell_type": "code",
      "source": [
        "import random\n",
        "\n",
        "random_num = random.randint(0,100)\n",
        "print(random_num)"
      ],
      "metadata": {
        "colab": {
          "base_uri": "https://localhost:8080/"
        },
        "id": "a7ddARs58olK",
        "outputId": "06de9b78-73aa-46f5-9272-e18326532760"
      },
      "execution_count": null,
      "outputs": [
        {
          "output_type": "stream",
          "name": "stdout",
          "text": [
            "36\n"
          ]
        }
      ]
    },
    {
      "cell_type": "code",
      "source": [
        "file = open(\"abdullah.txt\",\"r+\")\n",
        "file.write(\"hello im abdullah\")\n",
        "file.seek(0)\n",
        "line = file.read()\n",
        "print(line)\n",
        "file.close()"
      ],
      "metadata": {
        "colab": {
          "base_uri": "https://localhost:8080/"
        },
        "id": "GN60DqSnwlu8",
        "outputId": "caa45223-08a9-4492-9ee8-b7f85cf57921"
      },
      "execution_count": null,
      "outputs": [
        {
          "output_type": "stream",
          "name": "stdout",
          "text": [
            "hello im abdullahabdullah\n"
          ]
        }
      ]
    },
    {
      "cell_type": "code",
      "source": [
        "!curl -o helper_functions.py https://raw.githubusercontent.com/panaversity/learn-modern-ai-python/refs/heads/main/03_natural_language_programming/02_ai_python_for_beginners/helper_functions.py"
      ],
      "metadata": {
        "id": "hk6kOR5JZjdG",
        "colab": {
          "base_uri": "https://localhost:8080/"
        },
        "outputId": "6a0851d3-d1e3-4238-da93-f6001bee0b15"
      },
      "execution_count": null,
      "outputs": [
        {
          "output_type": "stream",
          "name": "stdout",
          "text": [
            "  % Total    % Received % Xferd  Average Speed   Time    Time     Time  Current\n",
            "                                 Dload  Upload   Total   Spent    Left  Speed\n",
            "\r  0     0    0     0    0     0      0      0 --:--:-- --:--:-- --:--:--     0\r100  1542  100  1542    0     0   6427      0 --:--:-- --:--:-- --:--:--  6451\n"
          ]
        }
      ]
    },
    {
      "cell_type": "code",
      "source": [
        "from helper_functions import print_llm_response\n",
        "print_llm_response(\"what is the capital of france\")"
      ],
      "metadata": {
        "colab": {
          "base_uri": "https://localhost:8080/",
          "height": 121
        },
        "id": "hRLaJiMTbBB6",
        "outputId": "84c6e0be-9227-4189-c38d-1147d64f53a7"
      },
      "execution_count": null,
      "outputs": [
        {
          "output_type": "stream",
          "name": "stdout",
          "text": [
            "____________________________________________________________________________________________________\n",
            "Paris\n",
            "\n",
            "____________________________________________________________________________________________________\n",
            "\n",
            "\n"
          ]
        }
      ]
    }
  ],
  "metadata": {
    "colab": {
      "provenance": [],
      "authorship_tag": "ABX9TyOi7/LK8YXdseMkoV3JZ6TP",
      "include_colab_link": true
    },
    "kernelspec": {
      "display_name": "Python 3",
      "name": "python3"
    },
    "language_info": {
      "name": "python"
    }
  },
  "nbformat": 4,
  "nbformat_minor": 0
}