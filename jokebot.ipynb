{
  "cells": [
    {
      "cell_type": "markdown",
      "metadata": {
        "id": "view-in-github",
        "colab_type": "text"
      },
      "source": [
        "<a href=\"https://colab.research.google.com/github/abdullahjpgg/online-projects/blob/main/jokebot.ipynb\" target=\"_parent\"><img src=\"https://colab.research.google.com/assets/colab-badge.svg\" alt=\"Open In Colab\"/></a>"
      ]
    },
    {
      "cell_type": "markdown",
      "source": [],
      "metadata": {
        "id": "VrHZubPW0z1g"
      }
    },
    {
      "cell_type": "code",
      "source": [
        "joke = \"Panaversity GPT - Sophia is heading out to the grocery store. A programmer tells her: get a liter of milk, and if they have eggs, get 12. Sophia returns with 13 liters of milk. The programmer asks why and Sophia replies: 'because they had eggs'\"\n",
        "\n",
        "def bot():\n",
        "    user_input = input(\"enter the joke: \")\n",
        "    if \"joke\" in user_input:\n",
        "        return joke\n",
        "    else:\n",
        "        return \"i don't understand.\"\n",
        "\n",
        "print(bot())"
      ],
      "metadata": {
        "id": "WYPaU3I9bhwp"
      },
      "execution_count": null,
      "outputs": []
    }
  ],
  "metadata": {
    "colab": {
      "provenance": [],
      "authorship_tag": "ABX9TyPXXk3D4BxLenS5wY3RGh8q",
      "include_colab_link": true
    },
    "kernelspec": {
      "display_name": "Python 3",
      "name": "python3"
    },
    "language_info": {
      "name": "python"
    }
  },
  "nbformat": 4,
  "nbformat_minor": 0
}